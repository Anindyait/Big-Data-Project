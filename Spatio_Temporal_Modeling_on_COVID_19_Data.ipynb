{
  "nbformat": 4,
  "nbformat_minor": 0,
  "metadata": {
    "colab": {
      "provenance": [],
      "gpuType": "T4",
      "authorship_tag": "ABX9TyOV9FD5Xz6H32dfNJUstuWi",
      "include_colab_link": true
    },
    "kernelspec": {
      "name": "python3",
      "display_name": "Python 3"
    },
    "language_info": {
      "name": "python"
    },
    "accelerator": "GPU"
  },
  "cells": [
    {
      "cell_type": "markdown",
      "metadata": {
        "id": "view-in-github",
        "colab_type": "text"
      },
      "source": [
        "<a href=\"https://colab.research.google.com/github/Anindyait/Big-Data-Project/blob/main/Spatio_Temporal_Modeling_on_COVID_19_Data.ipynb\" target=\"_parent\"><img src=\"https://colab.research.google.com/assets/colab-badge.svg\" alt=\"Open In Colab\"/></a>"
      ]
    },
    {
      "cell_type": "markdown",
      "source": [
        "#**📒 Spatio-Temporal Analysis on COVID-19 Data**\n",
        "\n",
        "**Big Data, DAL-588 | Phase - 2**\n",
        "\n",
        "- Akriti Gulati - 24565002\n",
        "- Anindya Biswas - 24565003\n",
        "- Arpit Kumar Chaudhary - 24566006\n",
        "- Priya Gupta - 24565013\n"
      ],
      "metadata": {
        "id": "0wKbWZvRgcWL"
      }
    },
    {
      "cell_type": "markdown",
      "source": [
        "#Installs"
      ],
      "metadata": {
        "id": "igd-A7juembL"
      }
    },
    {
      "cell_type": "code",
      "source": [
        "!pip install cartopy"
      ],
      "metadata": {
        "colab": {
          "base_uri": "https://localhost:8080/"
        },
        "id": "RLh9mMzT6gzK",
        "outputId": "65c2d790-2e70-4c82-a658-ec9f9dc26c27"
      },
      "execution_count": null,
      "outputs": [
        {
          "output_type": "stream",
          "name": "stdout",
          "text": [
            "Collecting cartopy\n",
            "  Downloading Cartopy-0.24.1-cp311-cp311-manylinux_2_17_x86_64.manylinux2014_x86_64.whl.metadata (7.9 kB)\n",
            "Requirement already satisfied: numpy>=1.23 in /usr/local/lib/python3.11/dist-packages (from cartopy) (2.0.2)\n",
            "Requirement already satisfied: matplotlib>=3.6 in /usr/local/lib/python3.11/dist-packages (from cartopy) (3.10.0)\n",
            "Requirement already satisfied: shapely>=1.8 in /usr/local/lib/python3.11/dist-packages (from cartopy) (2.1.0)\n",
            "Requirement already satisfied: packaging>=21 in /usr/local/lib/python3.11/dist-packages (from cartopy) (24.2)\n",
            "Requirement already satisfied: pyshp>=2.3 in /usr/local/lib/python3.11/dist-packages (from cartopy) (2.3.1)\n",
            "Requirement already satisfied: pyproj>=3.3.1 in /usr/local/lib/python3.11/dist-packages (from cartopy) (3.7.1)\n",
            "Requirement already satisfied: contourpy>=1.0.1 in /usr/local/lib/python3.11/dist-packages (from matplotlib>=3.6->cartopy) (1.3.2)\n",
            "Requirement already satisfied: cycler>=0.10 in /usr/local/lib/python3.11/dist-packages (from matplotlib>=3.6->cartopy) (0.12.1)\n",
            "Requirement already satisfied: fonttools>=4.22.0 in /usr/local/lib/python3.11/dist-packages (from matplotlib>=3.6->cartopy) (4.58.0)\n",
            "Requirement already satisfied: kiwisolver>=1.3.1 in /usr/local/lib/python3.11/dist-packages (from matplotlib>=3.6->cartopy) (1.4.8)\n",
            "Requirement already satisfied: pillow>=8 in /usr/local/lib/python3.11/dist-packages (from matplotlib>=3.6->cartopy) (11.2.1)\n",
            "Requirement already satisfied: pyparsing>=2.3.1 in /usr/local/lib/python3.11/dist-packages (from matplotlib>=3.6->cartopy) (3.2.3)\n",
            "Requirement already satisfied: python-dateutil>=2.7 in /usr/local/lib/python3.11/dist-packages (from matplotlib>=3.6->cartopy) (2.9.0.post0)\n",
            "Requirement already satisfied: certifi in /usr/local/lib/python3.11/dist-packages (from pyproj>=3.3.1->cartopy) (2025.4.26)\n",
            "Requirement already satisfied: six>=1.5 in /usr/local/lib/python3.11/dist-packages (from python-dateutil>=2.7->matplotlib>=3.6->cartopy) (1.17.0)\n",
            "Downloading Cartopy-0.24.1-cp311-cp311-manylinux_2_17_x86_64.manylinux2014_x86_64.whl (11.7 MB)\n",
            "\u001b[?25l   \u001b[90m━━━━━━━━━━━━━━━━━━━━━━━━━━━━━━━━━━━━━━━━\u001b[0m \u001b[32m0.0/11.7 MB\u001b[0m \u001b[31m?\u001b[0m eta \u001b[36m-:--:--\u001b[0m\r\u001b[2K   \u001b[91m━━━━━━━━━━━━━━━━━\u001b[0m\u001b[91m╸\u001b[0m\u001b[90m━━━━━━━━━━━━━━━━━━━━━━\u001b[0m \u001b[32m5.2/11.7 MB\u001b[0m \u001b[31m160.7 MB/s\u001b[0m eta \u001b[36m0:00:01\u001b[0m\r\u001b[2K   \u001b[91m━━━━━━━━━━━━━━━━━━━━━━━━━━━━━━━━\u001b[0m\u001b[90m╺\u001b[0m\u001b[90m━━━━━━━\u001b[0m \u001b[32m9.4/11.7 MB\u001b[0m \u001b[31m149.3 MB/s\u001b[0m eta \u001b[36m0:00:01\u001b[0m\r\u001b[2K   \u001b[91m━━━━━━━━━━━━━━━━━━━━━━━━━━━━━━━━━━━━━━━\u001b[0m\u001b[91m╸\u001b[0m \u001b[32m11.7/11.7 MB\u001b[0m \u001b[31m150.6 MB/s\u001b[0m eta \u001b[36m0:00:01\u001b[0m\r\u001b[2K   \u001b[90m━━━━━━━━━━━━━━━━━━━━━━━━━━━━━━━━━━━━━━━━\u001b[0m \u001b[32m11.7/11.7 MB\u001b[0m \u001b[31m103.9 MB/s\u001b[0m eta \u001b[36m0:00:00\u001b[0m\n",
            "\u001b[?25hInstalling collected packages: cartopy\n",
            "Successfully installed cartopy-0.24.1\n"
          ]
        }
      ]
    },
    {
      "cell_type": "code",
      "execution_count": null,
      "metadata": {
        "id": "6kobrGOLD6UP"
      },
      "outputs": [],
      "source": [
        "import pandas as pd\n",
        "import numpy as np"
      ]
    },
    {
      "cell_type": "markdown",
      "source": [
        "# Importing Dataset"
      ],
      "metadata": {
        "id": "VrOLjbxvesGN"
      }
    },
    {
      "cell_type": "code",
      "source": [
        "df = pd.read_csv('covid_19_data.csv')\n",
        "df.head()"
      ],
      "metadata": {
        "id": "c-b42sIvGQaI",
        "colab": {
          "base_uri": "https://localhost:8080/",
          "height": 206
        },
        "outputId": "63c09a27-96dd-42d1-dd9f-e9071507060e"
      },
      "execution_count": null,
      "outputs": [
        {
          "output_type": "execute_result",
          "data": {
            "text/plain": [
              "  Province/State Country/Region       Lat       Long        Date  Confirmed  \\\n",
              "0            NaN    Afghanistan  33.93911  67.709953  2020-01-22          0   \n",
              "1            NaN        Albania  41.15330  20.168300  2020-01-22          0   \n",
              "2            NaN        Algeria  28.03390   1.659600  2020-01-22          0   \n",
              "3            NaN        Andorra  42.50630   1.521800  2020-01-22          0   \n",
              "4            NaN         Angola -11.20270  17.873900  2020-01-22          0   \n",
              "\n",
              "   Deaths  Recovered  Active             WHO Region  \n",
              "0       0          0       0  Eastern Mediterranean  \n",
              "1       0          0       0                 Europe  \n",
              "2       0          0       0                 Africa  \n",
              "3       0          0       0                 Europe  \n",
              "4       0          0       0                 Africa  "
            ],
            "text/html": [
              "\n",
              "  <div id=\"df-816cdf99-5cb5-4ec2-93fa-7f0a49ce6f14\" class=\"colab-df-container\">\n",
              "    <div>\n",
              "<style scoped>\n",
              "    .dataframe tbody tr th:only-of-type {\n",
              "        vertical-align: middle;\n",
              "    }\n",
              "\n",
              "    .dataframe tbody tr th {\n",
              "        vertical-align: top;\n",
              "    }\n",
              "\n",
              "    .dataframe thead th {\n",
              "        text-align: right;\n",
              "    }\n",
              "</style>\n",
              "<table border=\"1\" class=\"dataframe\">\n",
              "  <thead>\n",
              "    <tr style=\"text-align: right;\">\n",
              "      <th></th>\n",
              "      <th>Province/State</th>\n",
              "      <th>Country/Region</th>\n",
              "      <th>Lat</th>\n",
              "      <th>Long</th>\n",
              "      <th>Date</th>\n",
              "      <th>Confirmed</th>\n",
              "      <th>Deaths</th>\n",
              "      <th>Recovered</th>\n",
              "      <th>Active</th>\n",
              "      <th>WHO Region</th>\n",
              "    </tr>\n",
              "  </thead>\n",
              "  <tbody>\n",
              "    <tr>\n",
              "      <th>0</th>\n",
              "      <td>NaN</td>\n",
              "      <td>Afghanistan</td>\n",
              "      <td>33.93911</td>\n",
              "      <td>67.709953</td>\n",
              "      <td>2020-01-22</td>\n",
              "      <td>0</td>\n",
              "      <td>0</td>\n",
              "      <td>0</td>\n",
              "      <td>0</td>\n",
              "      <td>Eastern Mediterranean</td>\n",
              "    </tr>\n",
              "    <tr>\n",
              "      <th>1</th>\n",
              "      <td>NaN</td>\n",
              "      <td>Albania</td>\n",
              "      <td>41.15330</td>\n",
              "      <td>20.168300</td>\n",
              "      <td>2020-01-22</td>\n",
              "      <td>0</td>\n",
              "      <td>0</td>\n",
              "      <td>0</td>\n",
              "      <td>0</td>\n",
              "      <td>Europe</td>\n",
              "    </tr>\n",
              "    <tr>\n",
              "      <th>2</th>\n",
              "      <td>NaN</td>\n",
              "      <td>Algeria</td>\n",
              "      <td>28.03390</td>\n",
              "      <td>1.659600</td>\n",
              "      <td>2020-01-22</td>\n",
              "      <td>0</td>\n",
              "      <td>0</td>\n",
              "      <td>0</td>\n",
              "      <td>0</td>\n",
              "      <td>Africa</td>\n",
              "    </tr>\n",
              "    <tr>\n",
              "      <th>3</th>\n",
              "      <td>NaN</td>\n",
              "      <td>Andorra</td>\n",
              "      <td>42.50630</td>\n",
              "      <td>1.521800</td>\n",
              "      <td>2020-01-22</td>\n",
              "      <td>0</td>\n",
              "      <td>0</td>\n",
              "      <td>0</td>\n",
              "      <td>0</td>\n",
              "      <td>Europe</td>\n",
              "    </tr>\n",
              "    <tr>\n",
              "      <th>4</th>\n",
              "      <td>NaN</td>\n",
              "      <td>Angola</td>\n",
              "      <td>-11.20270</td>\n",
              "      <td>17.873900</td>\n",
              "      <td>2020-01-22</td>\n",
              "      <td>0</td>\n",
              "      <td>0</td>\n",
              "      <td>0</td>\n",
              "      <td>0</td>\n",
              "      <td>Africa</td>\n",
              "    </tr>\n",
              "  </tbody>\n",
              "</table>\n",
              "</div>\n",
              "    <div class=\"colab-df-buttons\">\n",
              "\n",
              "  <div class=\"colab-df-container\">\n",
              "    <button class=\"colab-df-convert\" onclick=\"convertToInteractive('df-816cdf99-5cb5-4ec2-93fa-7f0a49ce6f14')\"\n",
              "            title=\"Convert this dataframe to an interactive table.\"\n",
              "            style=\"display:none;\">\n",
              "\n",
              "  <svg xmlns=\"http://www.w3.org/2000/svg\" height=\"24px\" viewBox=\"0 -960 960 960\">\n",
              "    <path d=\"M120-120v-720h720v720H120Zm60-500h600v-160H180v160Zm220 220h160v-160H400v160Zm0 220h160v-160H400v160ZM180-400h160v-160H180v160Zm440 0h160v-160H620v160ZM180-180h160v-160H180v160Zm440 0h160v-160H620v160Z\"/>\n",
              "  </svg>\n",
              "    </button>\n",
              "\n",
              "  <style>\n",
              "    .colab-df-container {\n",
              "      display:flex;\n",
              "      gap: 12px;\n",
              "    }\n",
              "\n",
              "    .colab-df-convert {\n",
              "      background-color: #E8F0FE;\n",
              "      border: none;\n",
              "      border-radius: 50%;\n",
              "      cursor: pointer;\n",
              "      display: none;\n",
              "      fill: #1967D2;\n",
              "      height: 32px;\n",
              "      padding: 0 0 0 0;\n",
              "      width: 32px;\n",
              "    }\n",
              "\n",
              "    .colab-df-convert:hover {\n",
              "      background-color: #E2EBFA;\n",
              "      box-shadow: 0px 1px 2px rgba(60, 64, 67, 0.3), 0px 1px 3px 1px rgba(60, 64, 67, 0.15);\n",
              "      fill: #174EA6;\n",
              "    }\n",
              "\n",
              "    .colab-df-buttons div {\n",
              "      margin-bottom: 4px;\n",
              "    }\n",
              "\n",
              "    [theme=dark] .colab-df-convert {\n",
              "      background-color: #3B4455;\n",
              "      fill: #D2E3FC;\n",
              "    }\n",
              "\n",
              "    [theme=dark] .colab-df-convert:hover {\n",
              "      background-color: #434B5C;\n",
              "      box-shadow: 0px 1px 3px 1px rgba(0, 0, 0, 0.15);\n",
              "      filter: drop-shadow(0px 1px 2px rgba(0, 0, 0, 0.3));\n",
              "      fill: #FFFFFF;\n",
              "    }\n",
              "  </style>\n",
              "\n",
              "    <script>\n",
              "      const buttonEl =\n",
              "        document.querySelector('#df-816cdf99-5cb5-4ec2-93fa-7f0a49ce6f14 button.colab-df-convert');\n",
              "      buttonEl.style.display =\n",
              "        google.colab.kernel.accessAllowed ? 'block' : 'none';\n",
              "\n",
              "      async function convertToInteractive(key) {\n",
              "        const element = document.querySelector('#df-816cdf99-5cb5-4ec2-93fa-7f0a49ce6f14');\n",
              "        const dataTable =\n",
              "          await google.colab.kernel.invokeFunction('convertToInteractive',\n",
              "                                                    [key], {});\n",
              "        if (!dataTable) return;\n",
              "\n",
              "        const docLinkHtml = 'Like what you see? Visit the ' +\n",
              "          '<a target=\"_blank\" href=https://colab.research.google.com/notebooks/data_table.ipynb>data table notebook</a>'\n",
              "          + ' to learn more about interactive tables.';\n",
              "        element.innerHTML = '';\n",
              "        dataTable['output_type'] = 'display_data';\n",
              "        await google.colab.output.renderOutput(dataTable, element);\n",
              "        const docLink = document.createElement('div');\n",
              "        docLink.innerHTML = docLinkHtml;\n",
              "        element.appendChild(docLink);\n",
              "      }\n",
              "    </script>\n",
              "  </div>\n",
              "\n",
              "\n",
              "    <div id=\"df-c5e5a602-dc81-4b53-8aa7-41b9798a21c1\">\n",
              "      <button class=\"colab-df-quickchart\" onclick=\"quickchart('df-c5e5a602-dc81-4b53-8aa7-41b9798a21c1')\"\n",
              "                title=\"Suggest charts\"\n",
              "                style=\"display:none;\">\n",
              "\n",
              "<svg xmlns=\"http://www.w3.org/2000/svg\" height=\"24px\"viewBox=\"0 0 24 24\"\n",
              "     width=\"24px\">\n",
              "    <g>\n",
              "        <path d=\"M19 3H5c-1.1 0-2 .9-2 2v14c0 1.1.9 2 2 2h14c1.1 0 2-.9 2-2V5c0-1.1-.9-2-2-2zM9 17H7v-7h2v7zm4 0h-2V7h2v10zm4 0h-2v-4h2v4z\"/>\n",
              "    </g>\n",
              "</svg>\n",
              "      </button>\n",
              "\n",
              "<style>\n",
              "  .colab-df-quickchart {\n",
              "      --bg-color: #E8F0FE;\n",
              "      --fill-color: #1967D2;\n",
              "      --hover-bg-color: #E2EBFA;\n",
              "      --hover-fill-color: #174EA6;\n",
              "      --disabled-fill-color: #AAA;\n",
              "      --disabled-bg-color: #DDD;\n",
              "  }\n",
              "\n",
              "  [theme=dark] .colab-df-quickchart {\n",
              "      --bg-color: #3B4455;\n",
              "      --fill-color: #D2E3FC;\n",
              "      --hover-bg-color: #434B5C;\n",
              "      --hover-fill-color: #FFFFFF;\n",
              "      --disabled-bg-color: #3B4455;\n",
              "      --disabled-fill-color: #666;\n",
              "  }\n",
              "\n",
              "  .colab-df-quickchart {\n",
              "    background-color: var(--bg-color);\n",
              "    border: none;\n",
              "    border-radius: 50%;\n",
              "    cursor: pointer;\n",
              "    display: none;\n",
              "    fill: var(--fill-color);\n",
              "    height: 32px;\n",
              "    padding: 0;\n",
              "    width: 32px;\n",
              "  }\n",
              "\n",
              "  .colab-df-quickchart:hover {\n",
              "    background-color: var(--hover-bg-color);\n",
              "    box-shadow: 0 1px 2px rgba(60, 64, 67, 0.3), 0 1px 3px 1px rgba(60, 64, 67, 0.15);\n",
              "    fill: var(--button-hover-fill-color);\n",
              "  }\n",
              "\n",
              "  .colab-df-quickchart-complete:disabled,\n",
              "  .colab-df-quickchart-complete:disabled:hover {\n",
              "    background-color: var(--disabled-bg-color);\n",
              "    fill: var(--disabled-fill-color);\n",
              "    box-shadow: none;\n",
              "  }\n",
              "\n",
              "  .colab-df-spinner {\n",
              "    border: 2px solid var(--fill-color);\n",
              "    border-color: transparent;\n",
              "    border-bottom-color: var(--fill-color);\n",
              "    animation:\n",
              "      spin 1s steps(1) infinite;\n",
              "  }\n",
              "\n",
              "  @keyframes spin {\n",
              "    0% {\n",
              "      border-color: transparent;\n",
              "      border-bottom-color: var(--fill-color);\n",
              "      border-left-color: var(--fill-color);\n",
              "    }\n",
              "    20% {\n",
              "      border-color: transparent;\n",
              "      border-left-color: var(--fill-color);\n",
              "      border-top-color: var(--fill-color);\n",
              "    }\n",
              "    30% {\n",
              "      border-color: transparent;\n",
              "      border-left-color: var(--fill-color);\n",
              "      border-top-color: var(--fill-color);\n",
              "      border-right-color: var(--fill-color);\n",
              "    }\n",
              "    40% {\n",
              "      border-color: transparent;\n",
              "      border-right-color: var(--fill-color);\n",
              "      border-top-color: var(--fill-color);\n",
              "    }\n",
              "    60% {\n",
              "      border-color: transparent;\n",
              "      border-right-color: var(--fill-color);\n",
              "    }\n",
              "    80% {\n",
              "      border-color: transparent;\n",
              "      border-right-color: var(--fill-color);\n",
              "      border-bottom-color: var(--fill-color);\n",
              "    }\n",
              "    90% {\n",
              "      border-color: transparent;\n",
              "      border-bottom-color: var(--fill-color);\n",
              "    }\n",
              "  }\n",
              "</style>\n",
              "\n",
              "      <script>\n",
              "        async function quickchart(key) {\n",
              "          const quickchartButtonEl =\n",
              "            document.querySelector('#' + key + ' button');\n",
              "          quickchartButtonEl.disabled = true;  // To prevent multiple clicks.\n",
              "          quickchartButtonEl.classList.add('colab-df-spinner');\n",
              "          try {\n",
              "            const charts = await google.colab.kernel.invokeFunction(\n",
              "                'suggestCharts', [key], {});\n",
              "          } catch (error) {\n",
              "            console.error('Error during call to suggestCharts:', error);\n",
              "          }\n",
              "          quickchartButtonEl.classList.remove('colab-df-spinner');\n",
              "          quickchartButtonEl.classList.add('colab-df-quickchart-complete');\n",
              "        }\n",
              "        (() => {\n",
              "          let quickchartButtonEl =\n",
              "            document.querySelector('#df-c5e5a602-dc81-4b53-8aa7-41b9798a21c1 button');\n",
              "          quickchartButtonEl.style.display =\n",
              "            google.colab.kernel.accessAllowed ? 'block' : 'none';\n",
              "        })();\n",
              "      </script>\n",
              "    </div>\n",
              "\n",
              "    </div>\n",
              "  </div>\n"
            ],
            "application/vnd.google.colaboratory.intrinsic+json": {
              "type": "dataframe",
              "variable_name": "df",
              "summary": "{\n  \"name\": \"df\",\n  \"rows\": 49068,\n  \"fields\": [\n    {\n      \"column\": \"Province/State\",\n      \"properties\": {\n        \"dtype\": \"category\",\n        \"num_unique_values\": 78,\n        \"samples\": [\n          \"Inner Mongolia\",\n          \"Australian Capital Territory\",\n          \"Jiangsu\"\n        ],\n        \"semantic_type\": \"\",\n        \"description\": \"\"\n      }\n    },\n    {\n      \"column\": \"Country/Region\",\n      \"properties\": {\n        \"dtype\": \"category\",\n        \"num_unique_values\": 187,\n        \"samples\": [\n          \"Tajikistan\",\n          \"Jamaica\",\n          \"Finland\"\n        ],\n        \"semantic_type\": \"\",\n        \"description\": \"\"\n      }\n    },\n    {\n      \"column\": \"Lat\",\n      \"properties\": {\n        \"dtype\": \"number\",\n        \"std\": 24.950319826064398,\n        \"min\": -51.7963,\n        \"max\": 71.7069,\n        \"num_unique_values\": 260,\n        \"samples\": [\n          42.7339,\n          39.3999,\n          41.377491\n        ],\n        \"semantic_type\": \"\",\n        \"description\": \"\"\n      }\n    },\n    {\n      \"column\": \"Long\",\n      \"properties\": {\n        \"dtype\": \"number\",\n        \"std\": 70.44273974450293,\n        \"min\": -135.0,\n        \"max\": 178.065,\n        \"num_unique_values\": 261,\n        \"samples\": [\n          25.4858,\n          74.766098,\n          8.081666\n        ],\n        \"semantic_type\": \"\",\n        \"description\": \"\"\n      }\n    },\n    {\n      \"column\": \"Date\",\n      \"properties\": {\n        \"dtype\": \"object\",\n        \"num_unique_values\": 188,\n        \"samples\": [\n          \"2020-07-23\",\n          \"2020-07-02\",\n          \"2020-02-09\"\n        ],\n        \"semantic_type\": \"\",\n        \"description\": \"\"\n      }\n    },\n    {\n      \"column\": \"Confirmed\",\n      \"properties\": {\n        \"dtype\": \"number\",\n        \"std\": 127300,\n        \"min\": 0,\n        \"max\": 4290259,\n        \"num_unique_values\": 10861,\n        \"samples\": [\n          17,\n          7177,\n          4621\n        ],\n        \"semantic_type\": \"\",\n        \"description\": \"\"\n      }\n    },\n    {\n      \"column\": \"Deaths\",\n      \"properties\": {\n        \"dtype\": \"number\",\n        \"std\": 6313,\n        \"min\": 0,\n        \"max\": 148011,\n        \"num_unique_values\": 3640,\n        \"samples\": [\n          16523,\n          5206,\n          38292\n        ],\n        \"semantic_type\": \"\",\n        \"description\": \"\"\n      }\n    },\n    {\n      \"column\": \"Recovered\",\n      \"properties\": {\n        \"dtype\": \"number\",\n        \"std\": 54800,\n        \"min\": 0,\n        \"max\": 1846641,\n        \"num_unique_values\": 7609,\n        \"samples\": [\n          3400,\n          1661,\n          1911\n        ],\n        \"semantic_type\": \"\",\n        \"description\": \"\"\n      }\n    },\n    {\n      \"column\": \"Active\",\n      \"properties\": {\n        \"dtype\": \"number\",\n        \"std\": 76258,\n        \"min\": -14,\n        \"max\": 2816444,\n        \"num_unique_values\": 8641,\n        \"samples\": [\n          21842,\n          1136,\n          320\n        ],\n        \"semantic_type\": \"\",\n        \"description\": \"\"\n      }\n    },\n    {\n      \"column\": \"WHO Region\",\n      \"properties\": {\n        \"dtype\": \"category\",\n        \"num_unique_values\": 6,\n        \"samples\": [\n          \"Eastern Mediterranean\",\n          \"Europe\",\n          \"South-East Asia\"\n        ],\n        \"semantic_type\": \"\",\n        \"description\": \"\"\n      }\n    }\n  ]\n}"
            }
          },
          "metadata": {},
          "execution_count": 92
        }
      ]
    },
    {
      "cell_type": "markdown",
      "source": [
        "Cleaning"
      ],
      "metadata": {
        "id": "AJMWdO-Re2pd"
      }
    },
    {
      "cell_type": "code",
      "source": [
        "df = df.copy()\n",
        "\n",
        "# Replace negative or NaN values with 0\n",
        "for col in ['Confirmed', 'Deaths', 'Recovered', 'Active']:\n",
        "    df[col] = pd.to_numeric(df[col], errors='coerce')  # force non-numeric to NaN\n",
        "    df[col] = df[col].clip(lower=0)                    # remove negatives\n",
        "    df[col] = df[col].fillna(0)                        # replace NaNs with 0\n",
        "    df[col] = np.log1p(df[col])                        # apply log1p safely\n"
      ],
      "metadata": {
        "id": "pWnC31Tn5mwC"
      },
      "execution_count": null,
      "outputs": []
    },
    {
      "cell_type": "markdown",
      "source": [
        "Grid Size for the CNN"
      ],
      "metadata": {
        "id": "MxunYpf4e5xx"
      }
    },
    {
      "cell_type": "code",
      "source": [
        "# Define grid size\n",
        "lat_bins = np.linspace(-90, 90, 61)   # 60 bins\n",
        "lon_bins = np.linspace(-180, 180, 121)  # 120 bins\n",
        "\n",
        "\n",
        "def get_bin_indices(lat, lon):\n",
        "    lat_idx = np.digitize(lat, lat_bins) - 1\n",
        "    lon_idx = np.digitize(lon, lon_bins) - 1\n",
        "    return lat_idx, lon_idx\n"
      ],
      "metadata": {
        "id": "CnH6ncoAVUbm"
      },
      "execution_count": null,
      "outputs": []
    },
    {
      "cell_type": "markdown",
      "source": [
        "Normalization"
      ],
      "metadata": {
        "id": "9kFqdl6Se9US"
      }
    },
    {
      "cell_type": "code",
      "source": [
        "# Normalized\n",
        "df['Confirmed'] = np.log1p(df['Confirmed'])\n",
        "df['Deaths'] = np.log1p(df['Deaths'])\n",
        "df['Recovered'] = np.log1p(df['Recovered'])\n",
        "df['Active'] = np.log1p(df['Active'])"
      ],
      "metadata": {
        "id": "GfENcB5pXp-D"
      },
      "execution_count": null,
      "outputs": []
    },
    {
      "cell_type": "markdown",
      "source": [
        "Pre-Processing"
      ],
      "metadata": {
        "id": "EzE0S7OMfAuo"
      }
    },
    {
      "cell_type": "code",
      "source": [
        "from tqdm import tqdm\n",
        "\n",
        "# Preprocess\n",
        "df['Date'] = pd.to_datetime(df['Date'])\n",
        "df = df.sort_values(['Date'])\n",
        "\n",
        "# Unique dates\n",
        "dates = df['Date'].unique()\n",
        "grid_frames = []\n",
        "\n",
        "for date in tqdm(dates):\n",
        "    day_df = df[df['Date'] == date]\n",
        "    grid = np.zeros((60, 120, 4))\n",
        "\n",
        "    for _, row in day_df.iterrows():\n",
        "        lat, lon = row['Lat'], row['Long']\n",
        "        lat_idx, lon_idx = get_bin_indices(lat, lon)\n",
        "\n",
        "        if 0 <= lat_idx < 180 and 0 <= lon_idx < 360:\n",
        "            grid[lat_idx, lon_idx, 0] += row['Confirmed']\n",
        "            grid[lat_idx, lon_idx, 1] += row['Deaths']\n",
        "            grid[lat_idx, lon_idx, 2] += row['Recovered']\n",
        "            grid[lat_idx, lon_idx, 3] += row['Active']\n",
        "\n",
        "    grid_frames.append(grid)\n"
      ],
      "metadata": {
        "colab": {
          "base_uri": "https://localhost:8080/"
        },
        "id": "SpxT_DQQVVNv",
        "outputId": "7aabcd43-ef9b-46ef-83bd-983508859580"
      },
      "execution_count": null,
      "outputs": [
        {
          "output_type": "stream",
          "name": "stderr",
          "text": [
            "100%|██████████| 188/188 [00:04<00:00, 44.29it/s]\n"
          ]
        }
      ]
    },
    {
      "cell_type": "markdown",
      "source": [
        "# CNN-LSTM Model for Confirmed Cases"
      ],
      "metadata": {
        "id": "aty3ArODfHOw"
      }
    },
    {
      "cell_type": "code",
      "source": [
        "X_seq = []\n",
        "Y_seq = []\n",
        "seq_len = 7  # past 7 days to predict the next\n",
        "\n",
        "for i in range(len(grid_frames) - seq_len):\n",
        "    X = np.stack(grid_frames[i:i+seq_len])        # Shape: [7, 180, 360, 4]\n",
        "    Y = grid_frames[i+seq_len][:, :, 0]           # Predict next day's confirmed\n",
        "    X_seq.append(X)\n",
        "    Y_seq.append(Y)\n",
        "\n",
        "X_seq = np.array(X_seq)  # [samples, time, H, W, C]\n",
        "Y_seq = np.array(Y_seq)  # [samples, H, W]\n"
      ],
      "metadata": {
        "id": "L1EvD6PlVa4b"
      },
      "execution_count": null,
      "outputs": []
    },
    {
      "cell_type": "code",
      "source": [
        "device = torch.device(\"cuda\" if torch.cuda.is_available() else \"cpu\")\n"
      ],
      "metadata": {
        "id": "9UddkfKgFv5l"
      },
      "execution_count": null,
      "outputs": []
    },
    {
      "cell_type": "code",
      "source": [
        "import torch\n",
        "import torch.nn as nn\n",
        "\n",
        "class CNNLSTM(nn.Module):\n",
        "    def __init__(self, input_shape=(4, 60, 120)):  # (C, H, W)\n",
        "        super(CNNLSTM, self).__init__()\n",
        "\n",
        "        # CNN to extract spatial features\n",
        "        self.cnn = nn.Sequential(\n",
        "            nn.Conv2d(in_channels=4, out_channels=8, kernel_size=3, padding=1),\n",
        "            nn.ReLU(),\n",
        "            nn.MaxPool2d(kernel_size=2),  # Downsample H/2 x W/2\n",
        "            nn.Conv2d(8, 16, kernel_size=3, padding=1),\n",
        "            nn.ReLU(),\n",
        "            nn.MaxPool2d(kernel_size=2)   # Downsample H/4 x W/4\n",
        "        )\n",
        "\n",
        "        # Dynamically compute CNN output size\n",
        "        with torch.no_grad():\n",
        "            dummy = torch.zeros(1, *input_shape)  # Shape: (C, H, W)\n",
        "            cnn_out = self.cnn(dummy)\n",
        "            self.cnn_out_dim = cnn_out.reshape(1, -1).shape[1]\n",
        "\n",
        "        # LSTM over time dimension\n",
        "        self.lstm = nn.LSTM(input_size=self.cnn_out_dim, hidden_size=128, batch_first=True)\n",
        "\n",
        "        # Output layer to predict next grid (1 channel)\n",
        "        self.output_height = input_shape[1]\n",
        "        self.output_width = input_shape[2]\n",
        "        self.fc = nn.Linear(128, self.output_height * self.output_width)\n",
        "\n",
        "    def forward(self, x):\n",
        "        \"\"\"\n",
        "        x: Tensor of shape [B, T, H, W, C]\n",
        "        \"\"\"\n",
        "        B, T, H, W, C = x.shape\n",
        "        x = x.permute(0, 1, 4, 2, 3)  # [B, T, C, H, W]\n",
        "\n",
        "        cnn_out_seq = []\n",
        "\n",
        "        for t in range(T):\n",
        "            cnn_out = self.cnn(x[:, t])         # [B, C', H', W']\n",
        "            cnn_out = cnn_out.reshape(B, -1)     # Flatten to [B, D]\n",
        "            cnn_out_seq.append(cnn_out)\n",
        "\n",
        "        cnn_out_seq = torch.stack(cnn_out_seq, dim=1)  # [B, T, D]\n",
        "\n",
        "        lstm_out, _ = self.lstm(cnn_out_seq)           # [B, T, 128]\n",
        "        final_output = lstm_out[:, -1]                 # [B, 128]\n",
        "\n",
        "        prediction = self.fc(final_output)             # [B, H*W]\n",
        "        return prediction.view(B, self.output_height, self.output_width)  # [B, H, W]\n"
      ],
      "metadata": {
        "id": "3k7Ob_M6VdxZ"
      },
      "execution_count": null,
      "outputs": []
    },
    {
      "cell_type": "code",
      "source": [
        "from sklearn.model_selection import train_test_split\n",
        "from torch.utils.data import DataLoader, TensorDataset\n",
        "import torch.nn as nn\n",
        "import torch\n",
        "\n",
        "# Convert to arrays if not already\n",
        "X_seq = np.array(X_seq)\n",
        "Y_seq = np.array(Y_seq)\n",
        "\n",
        "\n",
        "dates_seq = dates[seq_len:]  # skip first 7 days to match sequences\n",
        "\n",
        "\n",
        "# First split: train + temp (val+test)\n",
        "X_train, X_temp, Y_train, Y_temp, dates_train, dates_temp = train_test_split(\n",
        "    X_seq, Y_seq, dates_seq, test_size=0.3, shuffle=False)\n",
        "\n",
        "\n",
        "# Second split: val + test\n",
        "X_val, X_test, Y_val, Y_test, dates_val, dates_test = train_test_split(\n",
        "    X_temp, Y_temp, dates_temp, test_size=0.5, shuffle=False)\n",
        "\n",
        "# Convert to tensors\n",
        "X_train_tensor = torch.tensor(X_train, dtype=torch.float32)\n",
        "Y_train_tensor = torch.tensor(Y_train, dtype=torch.float32)\n",
        "X_val_tensor = torch.tensor(X_val, dtype=torch.float32)\n",
        "Y_val_tensor = torch.tensor(Y_val, dtype=torch.float32)\n",
        "X_test_tensor = torch.tensor(X_test, dtype=torch.float32)\n",
        "Y_test_tensor = torch.tensor(Y_test, dtype=torch.float32)\n",
        "\n",
        "dates_train, dates_temp = train_test_split(dates, test_size=0.3, shuffle=False)\n",
        "dates_val, dates_test = train_test_split(dates_temp, test_size=0.5, shuffle=False)\n",
        "\n",
        "\n",
        "# Create datasets\n",
        "train_dataset = TensorDataset(X_train_tensor, Y_train_tensor)\n",
        "val_dataset = TensorDataset(X_val_tensor, Y_val_tensor)\n",
        "\n",
        "# Create dataloaders\n",
        "train_loader = DataLoader(train_dataset, batch_size=8, shuffle=True)\n",
        "val_loader = DataLoader(val_dataset, batch_size=8, shuffle=False)\n",
        "\n",
        "# Model\n",
        "model = CNNLSTM(input_shape=(4, 60, 120))  # Adjust this to match your H, W\n",
        "optimizer = torch.optim.Adam(model.parameters(), lr=1e-4)\n",
        "criterion = nn.MSELoss()\n",
        "\n",
        "# Training loop\n",
        "for epoch in range(20):\n",
        "    model.train()\n",
        "    total_train_loss = 0\n",
        "    for X_batch, Y_batch in train_loader:\n",
        "        optimizer.zero_grad()\n",
        "        output = model(X_batch)\n",
        "        loss = criterion(output, Y_batch)\n",
        "        loss.backward()\n",
        "        optimizer.step()\n",
        "        total_train_loss += loss.item()\n",
        "\n",
        "    # Validation\n",
        "    model.eval()\n",
        "    total_val_loss = 0\n",
        "    with torch.no_grad():\n",
        "        for X_val_batch, Y_val_batch in val_loader:\n",
        "            val_output = model(X_val_batch)\n",
        "            val_loss = criterion(val_output, Y_val_batch)\n",
        "            total_val_loss += val_loss.item()\n",
        "\n",
        "    print(f\"Epoch {epoch+1} | Train Loss: {total_train_loss:.4f} | Val Loss: {total_val_loss:.4f}\")\n"
      ],
      "metadata": {
        "colab": {
          "base_uri": "https://localhost:8080/"
        },
        "id": "4vAJrY_aVfqJ",
        "outputId": "300af423-72f9-479c-c031-359258c8229f"
      },
      "execution_count": null,
      "outputs": [
        {
          "output_type": "stream",
          "name": "stdout",
          "text": [
            "Epoch 1 | Train Loss: 1.7709 | Val Loss: 0.7302\n",
            "Epoch 2 | Train Loss: 1.6724 | Val Loss: 0.7008\n",
            "Epoch 3 | Train Loss: 1.5599 | Val Loss: 0.6293\n",
            "Epoch 4 | Train Loss: 1.3060 | Val Loss: 0.4645\n",
            "Epoch 5 | Train Loss: 0.8864 | Val Loss: 0.2987\n",
            "Epoch 6 | Train Loss: 0.5900 | Val Loss: 0.1961\n",
            "Epoch 7 | Train Loss: 0.4156 | Val Loss: 0.1386\n",
            "Epoch 8 | Train Loss: 0.3177 | Val Loss: 0.1038\n",
            "Epoch 9 | Train Loss: 0.2591 | Val Loss: 0.0823\n",
            "Epoch 10 | Train Loss: 0.2239 | Val Loss: 0.0676\n",
            "Epoch 11 | Train Loss: 0.1995 | Val Loss: 0.0564\n",
            "Epoch 12 | Train Loss: 0.1825 | Val Loss: 0.0487\n",
            "Epoch 13 | Train Loss: 0.1697 | Val Loss: 0.0428\n",
            "Epoch 14 | Train Loss: 0.1585 | Val Loss: 0.0391\n",
            "Epoch 15 | Train Loss: 0.1513 | Val Loss: 0.0358\n",
            "Epoch 16 | Train Loss: 0.1445 | Val Loss: 0.0328\n",
            "Epoch 17 | Train Loss: 0.1408 | Val Loss: 0.0299\n",
            "Epoch 18 | Train Loss: 0.1351 | Val Loss: 0.0288\n",
            "Epoch 19 | Train Loss: 0.1293 | Val Loss: 0.0266\n",
            "Epoch 20 | Train Loss: 0.1254 | Val Loss: 0.0250\n"
          ]
        }
      ]
    },
    {
      "cell_type": "code",
      "source": [
        "idx = 0  # Index of the sample you want to check\n",
        "\n",
        "model.eval()\n",
        "with torch.no_grad():\n",
        "    X_input = X_val_tensor[idx:idx+1].to(device)  # Shape: [1, T, H, W, C]\n",
        "    pred = model(X_input).cpu().numpy()[0]        # Shape: [H, W]\n",
        "    actual = Y_val_tensor[idx].cpu().numpy()      # Shape: [H, W]\n"
      ],
      "metadata": {
        "id": "XJkq59skIQiq"
      },
      "execution_count": null,
      "outputs": []
    },
    {
      "cell_type": "code",
      "source": [
        "model.eval()\n",
        "pred_seq = []\n",
        "\n",
        "with torch.no_grad():\n",
        "    for X_batch, _ in val_loader:\n",
        "        X_batch = X_batch.to(device)\n",
        "        output = model(X_batch).cpu().numpy()  # shape: [B, H, W]\n",
        "        pred_seq.extend(output)  # list of [H, W] arrays\n",
        "\n",
        "pred_seq = np.array(pred_seq)  # shape: [N_val, H, W]\n"
      ],
      "metadata": {
        "id": "NRpt8wBSFqBp"
      },
      "execution_count": null,
      "outputs": []
    },
    {
      "cell_type": "code",
      "source": [
        "import matplotlib.pyplot as plt\n",
        "import cartopy.crs as ccrs\n",
        "\n",
        "def plot_grid_on_map(pred_grid, title=\"Predicted Cases (log1p)\", vmin=None, vmax=None):\n",
        "    plt.figure(figsize=(12, 6))\n",
        "    ax = plt.axes(projection=ccrs.PlateCarree())\n",
        "\n",
        "    # Plot the image (pred_grid must be [H, W] with H=lat, W=lon)\n",
        "    img = ax.imshow(\n",
        "        pred_grid, origin='lower',\n",
        "        extent=[-180, 180, -90, 90],  # lon_min, lon_max, lat_min, lat_max\n",
        "        cmap='hot', vmin=vmin, vmax=vmax, alpha=0.8\n",
        "    )\n",
        "\n",
        "    ax.coastlines()\n",
        "    plt.title(title)\n",
        "    plt.colorbar(img, orientation='vertical', label='log(1 + cases)')\n",
        "    plt.show()\n"
      ],
      "metadata": {
        "id": "Sk6uIRk76YAW"
      },
      "execution_count": null,
      "outputs": []
    },
    {
      "cell_type": "markdown",
      "source": [
        "## Metrics"
      ],
      "metadata": {
        "id": "9S5EWm3DfRBz"
      }
    },
    {
      "cell_type": "code",
      "source": [
        "from sklearn.metrics import mean_squared_error, mean_absolute_error, r2_score\n",
        "import numpy as np\n",
        "\n",
        "# Flatten predicted and actual arrays\n",
        "pred_flat = pred.flatten()\n",
        "actual_flat = actual.flatten()\n",
        "\n",
        "# Compute metrics\n",
        "mse = mean_squared_error(actual_flat, pred_flat)\n",
        "rmse = np.sqrt(mse)\n",
        "mae = mean_absolute_error(actual_flat, pred_flat)\n",
        "r2 = r2_score(actual_flat, pred_flat)\n",
        "\n",
        "print(f\"MSE:  {mse:.4f}\")\n",
        "print(f\"RMSE: {rmse:.4f}\")\n",
        "print(f\"MAE:  {mae:.4f}\")\n",
        "print(f\"R²:   {r2:.4f}\")\n"
      ],
      "metadata": {
        "colab": {
          "base_uri": "https://localhost:8080/"
        },
        "id": "LTHgASHpH0Vu",
        "outputId": "bd82074f-e3d5-4a2e-a8e7-73a302fdb88e"
      },
      "execution_count": null,
      "outputs": [
        {
          "output_type": "stream",
          "name": "stdout",
          "text": [
            "MSE:  0.0053\n",
            "RMSE: 0.0731\n",
            "MAE:  0.0182\n",
            "R²:   0.9694\n"
          ]
        }
      ]
    },
    {
      "cell_type": "markdown",
      "source": [
        "## Vizualization"
      ],
      "metadata": {
        "id": "7JAJ2xZLfTqc"
      }
    },
    {
      "cell_type": "code",
      "source": [
        "import matplotlib.pyplot as plt\n",
        "import numpy as np\n",
        "import torch\n",
        "\n",
        "def plot_pred_vs_actual(model, X_val_tensor, Y_val, dates_val, device, idx=0, channel=0):\n",
        "\n",
        "\n",
        "    model.eval()\n",
        "    with torch.no_grad():\n",
        "        # Ensure input tensor is on the same device as the model\n",
        "        X_input = X_val_tensor[idx:idx+1].to(device).float()\n",
        "\n",
        "        # Make sure model is on the same device and in float precision\n",
        "        model = model.to(device).float()\n",
        "\n",
        "        pred = model(X_input).cpu().numpy()[0]  # output shape: [H, W]\n",
        "\n",
        "    actual = Y_val[idx]  # actual shape: [H, W], numpy array on CPU\n",
        "\n",
        "\n",
        "    plt.figure(figsize=(12, 10))\n",
        "\n",
        "    plt.subplot(2, 1, 1)\n",
        "    plt.imshow(pred, cmap='hot', origin=\"lower\")\n",
        "    plt.title(f'Predicted Confirmed Cases\\nDate: {dates_val[idx]}')\n",
        "    plt.colorbar()\n",
        "\n",
        "    plt.subplot(2, 1, 2)\n",
        "    plt.imshow(actual, cmap='hot', origin=\"lower\")\n",
        "    plt.title(f'Actual Confirmed Cases\\nDate: {dates_val[idx]}')\n",
        "    plt.colorbar()\n",
        "\n",
        "    plt.show()\n"
      ],
      "metadata": {
        "id": "gD-qNBJA--S6"
      },
      "execution_count": null,
      "outputs": []
    },
    {
      "cell_type": "code",
      "source": [
        "plot_pred_vs_actual(model, X_test_tensor, Y_test, dates_val, device, idx=0)"
      ],
      "metadata": {
        "colab": {
          "base_uri": "https://localhost:8080/",
          "height": 873
        },
        "id": "ckCSf49g_AMt",
        "outputId": "dd3b2975-b614-4f05-af74-718cb4a657fb"
      },
      "execution_count": null,
      "outputs": [
        {
          "output_type": "display_data",
          "data": {
            "text/plain": [
              "<Figure size 1200x1000 with 4 Axes>"
            ],
            "image/png": "[encoded data removed]"
          },
          "metadata": {}
        }
      ]
    },
    {
      "cell_type": "code",
      "source": [
        "import numpy as np\n",
        "import matplotlib.pyplot as plt\n",
        "\n",
        "# pred_seq: shape [T, H, W]\n",
        "# Aggregate over space: sum all grid cells for each time step\n",
        "pred_total = pred_seq.sum(axis=(1, 2))  # shape: [T]\n",
        "\n",
        "# Plot the aggregated values over time\n",
        "plt.figure(figsize=(8, 4))\n",
        "plt.plot(pred_total, marker='o', color='tomato', linewidth=2)\n",
        "plt.title('Temporal Trend of Total Predicted COVID-19 Cases')\n",
        "plt.xlabel('Time Step')\n",
        "plt.ylabel('Sum of Predicted log(Confirmed + 1)')\n",
        "plt.grid(True)\n",
        "plt.tight_layout()\n",
        "plt.show()\n"
      ],
      "metadata": {
        "colab": {
          "base_uri": "https://localhost:8080/",
          "height": 407
        },
        "id": "GGTIByXNHLk8",
        "outputId": "7e2a3d61-8023-4ba9-d55d-7b21c8b990c7"
      },
      "execution_count": null,
      "outputs": [
        {
          "output_type": "display_data",
          "data": {
            "text/plain": [
              "<Figure size 800x400 with 1 Axes>"
            ],
            "image/png": "[encoded data removed]"
          },
          "metadata": {}
        }
      ]
    },
    {
      "cell_type": "markdown",
      "source": [
        "# CNN-LSTM Model for Death Cases"
      ],
      "metadata": {
        "id": "RJ-TQARwNS8D"
      }
    },
    {
      "cell_type": "code",
      "source": [
        "X_seq = []\n",
        "Y_seq = []\n",
        "seq_len = 7  # past 7 days to predict the next\n",
        "\n",
        "for i in range(len(grid_frames) - seq_len):\n",
        "    X = np.stack(grid_frames[i:i+seq_len])        # Shape: [7, 180, 360, 4]\n",
        "    Y = grid_frames[i+seq_len][:, :, 1]           # Predict next day's deaths\n",
        "    X_seq.append(X)\n",
        "    Y_seq.append(Y)\n",
        "\n",
        "X_seq = np.array(X_seq)  # [samples, time, H, W, C]\n",
        "Y_seq = np.array(Y_seq)  # [samples, H, W]\n"
      ],
      "metadata": {
        "id": "BvzbP1tiNOt7"
      },
      "execution_count": null,
      "outputs": []
    },
    {
      "cell_type": "code",
      "source": [
        "# Convert to arrays if not already\n",
        "X_seq = np.array(X_seq)\n",
        "Y_seq = np.array(Y_seq)\n",
        "\n",
        "\n",
        "dates_seq = dates[seq_len:]  # skip first 7 days to match sequences\n",
        "\n",
        "\n",
        "# First split: train + temp (val+test)\n",
        "X_train, X_temp, Y_train, Y_temp, dates_train, dates_temp = train_test_split(\n",
        "    X_seq, Y_seq, dates_seq, test_size=0.3, shuffle=False)\n",
        "\n",
        "\n",
        "# Second split: val + test\n",
        "X_val, X_test, Y_val, Y_test, dates_val, dates_test = train_test_split(\n",
        "    X_temp, Y_temp, dates_temp, test_size=0.5, shuffle=False)\n",
        "\n",
        "# Convert to tensors\n",
        "X_train_tensor = torch.tensor(X_train, dtype=torch.float32)\n",
        "Y_train_tensor = torch.tensor(Y_train, dtype=torch.float32)\n",
        "X_val_tensor = torch.tensor(X_val, dtype=torch.float32)\n",
        "Y_val_tensor = torch.tensor(Y_val, dtype=torch.float32)\n",
        "X_test_tensor = torch.tensor(X_test, dtype=torch.float32)\n",
        "Y_test_tensor = torch.tensor(Y_test, dtype=torch.float32)\n",
        "\n",
        "dates_train, dates_temp = train_test_split(dates, test_size=0.3, shuffle=False)\n",
        "dates_val, dates_test = train_test_split(dates_temp, test_size=0.5, shuffle=False)\n",
        "\n",
        "\n",
        "# Create datasets\n",
        "train_dataset = TensorDataset(X_train_tensor, Y_train_tensor)\n",
        "val_dataset = TensorDataset(X_val_tensor, Y_val_tensor)\n",
        "\n",
        "# Create dataloaders\n",
        "train_loader = DataLoader(train_dataset, batch_size=8, shuffle=True)\n",
        "val_loader = DataLoader(val_dataset, batch_size=8, shuffle=False)\n",
        "\n",
        "# Model\n",
        "model = CNNLSTM(input_shape=(4, 60, 120))  # Adjust this to match your H, W\n",
        "optimizer = torch.optim.Adam(model.parameters(), lr=1e-4)\n",
        "criterion = nn.MSELoss()\n",
        "\n",
        "# Training loop\n",
        "for epoch in range(20):\n",
        "    model.train()\n",
        "    total_train_loss = 0\n",
        "    for X_batch, Y_batch in train_loader:\n",
        "        optimizer.zero_grad()\n",
        "        output = model(X_batch)\n",
        "        loss = criterion(output, Y_batch)\n",
        "        loss.backward()\n",
        "        optimizer.step()\n",
        "        total_train_loss += loss.item()\n",
        "\n",
        "    # Validation\n",
        "    model.eval()\n",
        "    total_val_loss = 0\n",
        "    with torch.no_grad():\n",
        "        for X_val_batch, Y_val_batch in val_loader:\n",
        "            val_output = model(X_val_batch)\n",
        "            val_loss = criterion(val_output, Y_val_batch)\n",
        "            total_val_loss += val_loss.item()\n",
        "\n",
        "    print(f\"Epoch {epoch+1} | Train Loss: {total_train_loss:.4f} | Val Loss: {total_val_loss:.4f}\")\n"
      ],
      "metadata": {
        "colab": {
          "base_uri": "https://localhost:8080/"
        },
        "id": "qfhWV8E8NScu",
        "outputId": "16c401dd-f349-450b-f42c-adfb9b861f2b"
      },
      "execution_count": null,
      "outputs": [
        {
          "output_type": "stream",
          "name": "stdout",
          "text": [
            "Epoch 1 | Train Loss: 0.7030 | Val Loss: 0.3475\n",
            "Epoch 2 | Train Loss: 0.6309 | Val Loss: 0.3389\n",
            "Epoch 3 | Train Loss: 0.6083 | Val Loss: 0.3239\n",
            "Epoch 4 | Train Loss: 0.5626 | Val Loss: 0.2955\n",
            "Epoch 5 | Train Loss: 0.4897 | Val Loss: 0.2345\n",
            "Epoch 6 | Train Loss: 0.3466 | Val Loss: 0.1407\n",
            "Epoch 7 | Train Loss: 0.2105 | Val Loss: 0.0826\n",
            "Epoch 8 | Train Loss: 0.1396 | Val Loss: 0.0558\n",
            "Epoch 9 | Train Loss: 0.1036 | Val Loss: 0.0403\n",
            "Epoch 10 | Train Loss: 0.0822 | Val Loss: 0.0328\n",
            "Epoch 11 | Train Loss: 0.0712 | Val Loss: 0.0277\n",
            "Epoch 12 | Train Loss: 0.0631 | Val Loss: 0.0246\n",
            "Epoch 13 | Train Loss: 0.0577 | Val Loss: 0.0218\n",
            "Epoch 14 | Train Loss: 0.0537 | Val Loss: 0.0201\n",
            "Epoch 15 | Train Loss: 0.0505 | Val Loss: 0.0190\n",
            "Epoch 16 | Train Loss: 0.0477 | Val Loss: 0.0181\n",
            "Epoch 17 | Train Loss: 0.0455 | Val Loss: 0.0167\n",
            "Epoch 18 | Train Loss: 0.0437 | Val Loss: 0.0158\n",
            "Epoch 19 | Train Loss: 0.0412 | Val Loss: 0.0156\n",
            "Epoch 20 | Train Loss: 0.0392 | Val Loss: 0.0149\n"
          ]
        }
      ]
    },
    {
      "cell_type": "code",
      "source": [
        "model = model.to(device)        # move model to GPU or CPU\n",
        "X_input = X_input.to(device)    # move input tensor to same device\n",
        "model.eval()\n",
        "with torch.no_grad():\n",
        "    pred = model(X_input).cpu().numpy()[0]"
      ],
      "metadata": {
        "id": "xegNY6WfP1EN"
      },
      "execution_count": null,
      "outputs": []
    },
    {
      "cell_type": "code",
      "source": [
        "idx = 0  # Index of the sample you want to check\n",
        "\n",
        "model.eval()\n",
        "with torch.no_grad():\n",
        "    X_input = X_val_tensor[idx:idx+1].to(device)  # Shape: [1, T, H, W, C]\n",
        "    pred = model(X_input).cpu().numpy()[0]        # Shape: [H, W]\n",
        "    actual = Y_val_tensor[idx].cpu().numpy()      # Shape: [H, W]\n"
      ],
      "metadata": {
        "id": "MmoCra22Ns0Y"
      },
      "execution_count": null,
      "outputs": []
    },
    {
      "cell_type": "code",
      "source": [
        "model.eval()\n",
        "pred_seq = []\n",
        "\n",
        "with torch.no_grad():\n",
        "    for X_batch, _ in val_loader:\n",
        "        X_batch = X_batch.to(device)\n",
        "        output = model(X_batch).cpu().numpy()  # shape: [B, H, W]\n",
        "        pred_seq.extend(output)  # list of [H, W] arrays\n",
        "\n",
        "pred_seq = np.array(pred_seq)  # shape: [N_val, H, W]\n"
      ],
      "metadata": {
        "id": "xH5wlRZ3NwzF"
      },
      "execution_count": null,
      "outputs": []
    },
    {
      "cell_type": "code",
      "source": [
        "import matplotlib.pyplot as plt\n",
        "import cartopy.crs as ccrs\n",
        "\n",
        "def plot_grid_on_map(pred_grid, title=\"Predicted Cases (log1p)\", vmin=None, vmax=None):\n",
        "    plt.figure(figsize=(12, 6))\n",
        "    ax = plt.axes(projection=ccrs.PlateCarree())\n",
        "\n",
        "    # Plot the image (pred_grid must be [H, W] with H=lat, W=lon)\n",
        "    img = ax.imshow(\n",
        "        pred_grid, origin='lower',\n",
        "        extent=[-180, 180, -90, 90],  # lon_min, lon_max, lat_min, lat_max\n",
        "        cmap='hot', vmin=vmin, vmax=vmax, alpha=0.8\n",
        "    )\n",
        "\n",
        "    ax.coastlines()\n",
        "    plt.title(title)\n",
        "    plt.colorbar(img, orientation='vertical', label='log(1 + cases)')\n",
        "    plt.show()\n"
      ],
      "metadata": {
        "id": "2BwGhr1PN3Gc"
      },
      "execution_count": null,
      "outputs": []
    },
    {
      "cell_type": "markdown",
      "source": [
        "## Metrics"
      ],
      "metadata": {
        "id": "hSWmihHDfmC5"
      }
    },
    {
      "cell_type": "code",
      "source": [
        "from sklearn.metrics import mean_squared_error, mean_absolute_error, r2_score\n",
        "import numpy as np\n",
        "\n",
        "# Flatten predicted and actual arrays\n",
        "pred_flat = pred.flatten()\n",
        "actual_flat = actual.flatten()\n",
        "\n",
        "# Compute metrics\n",
        "mse = mean_squared_error(actual_flat, pred_flat)\n",
        "rmse = np.sqrt(mse)\n",
        "mae = mean_absolute_error(actual_flat, pred_flat)\n",
        "r2 = r2_score(actual_flat, pred_flat)\n",
        "\n",
        "print(f\"MSE:  {mse:.4f}\")\n",
        "print(f\"RMSE: {rmse:.4f}\")\n",
        "print(f\"MAE:  {mae:.4f}\")\n",
        "print(f\"R²:   {r2:.4f}\")\n"
      ],
      "metadata": {
        "colab": {
          "base_uri": "https://localhost:8080/"
        },
        "id": "wH7ZD6LKQRyT",
        "outputId": "19e304f8-67e9-47c0-d7a3-59174423aa8a"
      },
      "execution_count": null,
      "outputs": [
        {
          "output_type": "stream",
          "name": "stdout",
          "text": [
            "MSE:  0.0025\n",
            "RMSE: 0.0499\n",
            "MAE:  0.0121\n",
            "R²:   0.9685\n"
          ]
        }
      ]
    },
    {
      "cell_type": "markdown",
      "source": [
        "## Vizualization"
      ],
      "metadata": {
        "id": "4AmS3SyZfo7p"
      }
    },
    {
      "cell_type": "code",
      "source": [
        "import matplotlib.pyplot as plt\n",
        "import numpy as np\n",
        "import torch\n",
        "\n",
        "def plot_pred_vs_actual(model, X_val_tensor, Y_val, dates_val, device, idx=0, channel=0):\n",
        "\n",
        "\n",
        "    model.eval()\n",
        "    with torch.no_grad():\n",
        "        X_input = X_val_tensor[idx:idx+1].to(device).float()\n",
        "\n",
        "        model = model.to(device).float()\n",
        "\n",
        "        pred = model(X_input).cpu().numpy()[0]  # output shape: [H, W]\n",
        "\n",
        "    actual = Y_val[idx]  # actual shape: [H, W], numpy array on CPU\n",
        "\n",
        "\n",
        "    plt.figure(figsize=(12, 10))\n",
        "\n",
        "    plt.subplot(2, 1, 1)\n",
        "    plt.imshow(pred, cmap='hot', origin=\"lower\")\n",
        "    plt.title(f'Predicted Deaths\\nDate: {dates_val[idx]}')\n",
        "    plt.colorbar()\n",
        "\n",
        "    plt.subplot(2, 1, 2)\n",
        "    plt.imshow(actual, cmap='hot', origin=\"lower\")\n",
        "    plt.title(f'Actual Deaths\\nDate: {dates_val[idx]}')\n",
        "    plt.colorbar()\n",
        "\n",
        "    plt.show()\n"
      ],
      "metadata": {
        "id": "ldnkrZWfQVxz"
      },
      "execution_count": null,
      "outputs": []
    },
    {
      "cell_type": "code",
      "source": [
        "plot_pred_vs_actual(model, X_test_tensor, Y_test, dates_val, device, idx=0)"
      ],
      "metadata": {
        "colab": {
          "base_uri": "https://localhost:8080/",
          "height": 873
        },
        "id": "AJse7_rFQZmA",
        "outputId": "10644d8d-c01c-4e10-d541-35767da9fdbd"
      },
      "execution_count": null,
      "outputs": [
        {
          "output_type": "display_data",
          "data": {
            "text/plain": [
              "<Figure size 1200x1000 with 4 Axes>"
            ],
            "image/png": "[encoded data removed]"
          },
          "metadata": {}
        }
      ]
    },
    {
      "cell_type": "code",
      "source": [
        "import numpy as np\n",
        "import matplotlib.pyplot as plt\n",
        "\n",
        "\n",
        "pred_total = pred_seq.sum(axis=(1, 2))  # shape: [T]\n",
        "\n",
        "# Plot the aggregated values over time\n",
        "plt.figure(figsize=(8, 4))\n",
        "plt.plot(pred_total, marker='o', color='blue', linewidth=2)\n",
        "plt.title('Temporal Trend of Total Predicted COVID-19 Deaths')\n",
        "plt.xlabel('Time Step')\n",
        "plt.ylabel('Sum of Predicted log(Confirmed + 1)')\n",
        "plt.grid(True)\n",
        "plt.tight_layout()\n",
        "plt.show()\n"
      ],
      "metadata": {
        "colab": {
          "base_uri": "https://localhost:8080/",
          "height": 407
        },
        "id": "SATpNapIRJw6",
        "outputId": "32807f28-3818-43eb-a03e-648d3c3e3eb6"
      },
      "execution_count": null,
      "outputs": [
        {
          "output_type": "display_data",
          "data": {
            "text/plain": [
              "<Figure size 800x400 with 1 Axes>"
            ],
            "image/png": "[encoded data removed]"
          },
          "metadata": {}
        }
      ]
    }
  ]
}